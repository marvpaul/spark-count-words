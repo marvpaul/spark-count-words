{
 "cells": [
  {
   "cell_type": "code",
   "execution_count": 1,
   "metadata": {},
   "outputs": [
    {
     "data": {
      "text/plain": [
       "['a', 'about', 'above', 'after', 'again', 'against', 'all', 'am', 'an', 'and']"
      ]
     },
     "execution_count": 1,
     "metadata": {},
     "output_type": "execute_result"
    }
   ],
   "source": [
    "from stop_words import get_stop_words"
   ]
  },
  {
   "cell_type": "code",
   "execution_count": 5,
   "metadata": {},
   "outputs": [],
   "source": [
    "# create spark session\n",
    "from pyspark.sql import SparkSession\n",
    "spark = SparkSession \\\n",
    "    .builder \\\n",
    "    .appName(\"Python Spark Count words\") \\\n",
    "    .config(\"spark.some.config.option\", \"some-value\") \\\n",
    "    .getOrCreate()"
   ]
  },
  {
   "cell_type": "code",
   "execution_count": 152,
   "metadata": {},
   "outputs": [
    {
     "data": {
      "text/plain": [
       "[('German', [('test', 3), ('hallo', 2), ('neuer', 1), ('tolle', 1)]),\n",
       " ('English', [('hey', 3), ('test', 1), ('never', 1), ('know', 1)])]"
      ]
     },
     "execution_count": 152,
     "metadata": {},
     "output_type": "execute_result"
    }
   ],
   "source": [
    "# Testdata\n",
    "file = spark.sparkContext.wholeTextFiles(\"data/test/*/*.txt\")\n",
    "filesByLang = file.map(lambda x: (x[0].split(\"/\")[-2], x[1])).reduceByKey(lambda v1,v2: v1+ \" \" + v2)\n",
    "seqOp = (lambda x, y: (x[0], y[0]))\n",
    "combOp = (lambda x, y:(x, y))\n",
    "occurencesPerLanguage = filesByLang.flatMapValues(lambda l: re.findall(\"\\w+\", l))\\\n",
    "        .map(lambda x: (x[0], x[1].lower()))\\\n",
    "        .filter(lambda x: (x[1] not in get_stop_words(x[0].lower())))\\\n",
    "        .map(lambda w: ((w[0], w[1]), 1)).reduceByKey(lambda v1,v2: v1+v2)\\\n",
    "        .map(lambda x: ((x[0][0]), x[0][1], x[1]))\\\n",
    "        .sortBy(lambda a: a[2], ascending=False)\\\n",
    "        .map(lambda x: (x[0], (x[1], x[2])))\\\n",
    "        .groupByKey()\n",
    "\n",
    "\n",
    "occurencesPerLanguage.mapValues(list).collect()"
   ]
  },
  {
   "cell_type": "code",
   "execution_count": 179,
   "metadata": {},
   "outputs": [],
   "source": [
    "# real data\n",
    "file = spark.sparkContext.wholeTextFiles(\"data/texts/*/*.txt\")\n",
    "filesByLang = file.map(lambda x: (x[0].split(\"/\")[-2], x[1])).reduceByKey(lambda v1,v2: v1+ \" \" + v2)\n",
    "occurencesPerLanguage = filesByLang.flatMapValues(lambda l: re.findall(\"\\w+\", l))\\\n",
    "        .map(lambda x: (x[0], x[1].lower()))\\\n",
    "        .filter(lambda x: (x[1] not in get_stop_words(x[0].lower())))\\\n",
    "        .map(lambda w: ((w[0], w[1]), 1)).reduceByKey(lambda v1,v2: v1+v2)\\\n",
    "        .map(lambda x: ((x[0][0]), x[0][1], x[1]))\\\n",
    "        .sortBy(lambda a: a[2], ascending=False)\\\n",
    "        .map(lambda x: (x[0], (x[1], x[2])))\\\n",
    "        .groupByKey()\n",
    "\n",
    "\n",
    "occurences = occurencesPerLanguage.mapValues(list).collect()"
   ]
  },
  {
   "cell_type": "code",
   "execution_count": 180,
   "metadata": {},
   "outputs": [
    {
     "name": "stdout",
     "output_type": "stream",
     "text": [
      "English[('s', 25820), ('said', 18368), ('one', 17930), ('will', 12828), ('upon', 12763), ('now', 11810), ('t', 11782), ('man', 11763), ('time', 9585), ('well', 9482)]\n",
      "German[('sagte', 10700), ('ja', 8849), ('schon', 7948), ('mehr', 7026), ('wurde', 6489), ('ganz', 6165), ('s', 5967), ('sah', 5858), ('rief', 5683), ('wohl', 5647)]\n",
      "Russian[('ним', 460), ('глаза', 298), ('друг', 273), ('сердце', 271), ('моей', 255), ('ночь', 241), ('жизни', 234), ('свой', 231), ('знаю', 224), ('горский', 224)]\n",
      "French[('s', 38328), ('plus', 26737), ('c', 22806), ('dit', 22433), ('bien', 18336), ('homme', 10266), ('dont', 7398), ('rien', 7322), ('puis', 7193), ('monsieur', 7084)]\n",
      "Ukrainian[('а', 14064), ('й', 11190), ('i', 4832), ('н', 1936), ('о', 1821), ('вiн', 1533), ('бо', 1511), ('се', 1469), ('од', 1421), ('от', 1274)]\n",
      "Italian[('d', 13788), ('disse', 8759), ('egli', 8691), ('poi', 7288), ('quel', 7199), ('quando', 6762), ('due', 6461), ('s', 6387), ('così', 6239), ('cosa', 5989)]\n",
      "Spanish[('si', 5444), ('á', 3767), ('don', 3073), ('tan', 3026), ('dijo', 2992), ('usted', 2985), ('casa', 2451), ('bien', 2422), ('ser', 2392), ('dos', 2124)]\n",
      "Dutch[('den', 1520), ('t', 701), ('gij', 627), ('zoo', 512), ('zijne', 509), ('eene', 488), ('wel', 376), ('marten', 330), ('wij', 318), ('baas', 303)]\n"
     ]
    }
   ],
   "source": [
    "for languages in occurences:\n",
    "    print(languages[0] + str(languages[1][:10]))\n",
    "    \n",
    "# TODO: Why we get so many 's' words?"
   ]
  },
  {
   "cell_type": "code",
   "execution_count": null,
   "metadata": {},
   "outputs": [],
   "source": []
  }
 ],
 "metadata": {
  "kernelspec": {
   "display_name": "Python 3",
   "language": "python",
   "name": "python3"
  },
  "language_info": {
   "codemirror_mode": {
    "name": "ipython",
    "version": 3
   },
   "file_extension": ".py",
   "mimetype": "text/x-python",
   "name": "python",
   "nbconvert_exporter": "python",
   "pygments_lexer": "ipython3",
   "version": "3.8.5"
  }
 },
 "nbformat": 4,
 "nbformat_minor": 4
}
