{
 "cells": [
  {
   "cell_type": "markdown",
   "metadata": {},
   "source": [
    "# Import libraries\n",
    "This imports necessary libraries and creates a helper method which we can use to initialize a new Spark Context with a certain configuration. We use this method to do benchmarks with different spark configurations (e.g. different number of cpu cores)."
   ]
  },
  {
   "cell_type": "code",
   "execution_count": 1,
   "metadata": {},
   "outputs": [],
   "source": [
    "from stop_words import get_stop_words\n",
    "import re\n",
    "from pyspark import SparkContext, SparkConf\n",
    "\n",
    "sparkContext = None\n",
    "def createSparkContext(conf, sparkContext):\n",
    "    if(sparkContext != None):\n",
    "        sparkContext.stop()\n",
    "    sparkContext = SparkContext(conf=conf) \n",
    "    return sparkContext"
   ]
  },
  {
   "cell_type": "markdown",
   "metadata": {},
   "source": [
    "# Default Spark Context"
   ]
  },
  {
   "cell_type": "code",
   "execution_count": 2,
   "metadata": {},
   "outputs": [],
   "source": [
    "conf = SparkConf().setMaster(\"local[2]\")\\\n",
    ".setAll(\n",
    "    [('spark.executor.memory', '4g'),\\\n",
    "     ('spark.app.name', 'Python Spark Count words'),\\\n",
    "     ('spark.executor.cores', '4'),\\\n",
    "     ('spark.cores.max', '4'),\\\n",
    "     ('spark.driver.memory','4g')])\n",
    "sparkContext = sparkContext = SparkContext(conf=conf) "
   ]
  },
  {
   "cell_type": "markdown",
   "metadata": {},
   "source": [
    "# Count words\n",
    "This is our method for counting words with Spark in several languages."
   ]
  },
  {
   "cell_type": "code",
   "execution_count": 8,
   "metadata": {},
   "outputs": [],
   "source": [
    "def analyzeFiles(sc, filePath):\n",
    "    \"\"\"\n",
    "    Returns an dictionary with language as key and top 10 words as values\n",
    "    \"\"\"\n",
    "    file = sc.wholeTextFiles(filePath)\n",
    "    filesByLang = file.map(lambda x: (x[0].split(\"/\")[-2], x[1])).reduceByKey(lambda v1,v2: v1+ \" \" + v2)\n",
    "    wordsByLang = filesByLang.flatMapValues(lambda l: re.findall(\"\\w+\", l))\n",
    "\n",
    "    preprocessedWords = wordsByLang.map(lambda x: (x[0], x[1].lower()))\\\n",
    "            .filter(lambda x: (x[1] not in get_stop_words(x[0].lower())))\n",
    "\n",
    "    occurences = preprocessedWords.map(lambda w: ((w[0], w[1]), 1))\\\n",
    "            .reduceByKey(lambda v1,v2: v1+v2)\n",
    "    occurencesPerLanguage = occurences.sortBy(lambda a: a[1], ascending=False)\\\n",
    "            .filter(lambda x: len(x[0][1]) != 1)\\\n",
    "            .map(lambda x: (x[0][0], (x[0][1], x[1])))\\\n",
    "            .groupByKey()\n",
    "    \n",
    "    occurencesPerLanguageCollected = occurencesPerLanguage.mapValues(list).collect()\n",
    "    top10 = {}\n",
    "    for languages in occurencesPerLanguageCollected:\n",
    "        top10[languages[0]] = languages[1][:10]\n",
    "    return top10"
   ]
  },
  {
   "cell_type": "markdown",
   "metadata": {},
   "source": [
    "# Execute on test data"
   ]
  },
  {
   "cell_type": "code",
   "execution_count": 4,
   "metadata": {},
   "outputs": [
    {
     "name": "stdout",
     "output_type": "stream",
     "text": [
      "{'German': [('test', 3), ('hallo', 2), ('neuer', 1), ('tolle', 1)], 'English': [('hey', 3), ('test', 1), ('never', 1), ('know', 1), ('say', 1), ('easy', 1)]}\n"
     ]
    }
   ],
   "source": [
    "# Test data\n",
    "print(analyzeFiles(sparkContext, \"data/test/*/*.txt\"))"
   ]
  },
  {
   "cell_type": "markdown",
   "metadata": {},
   "source": [
    "# Real data"
   ]
  },
  {
   "cell_type": "code",
   "execution_count": 7,
   "metadata": {},
   "outputs": [],
   "source": [
    "# real data\n",
    "result = analyzeFiles(sparkContext, \"data/texts/*/*.txt\")"
   ]
  },
  {
   "cell_type": "code",
   "execution_count": 9,
   "metadata": {},
   "outputs": [
    {
     "name": "stdout",
     "output_type": "stream",
     "text": [
      "{'English': [('said', 18368), ('one', 17930), ('will', 12828), ('upon', 12763), ('now', 11810), ('man', 11763), ('time', 9585), ('well', 9482), ('can', 8902), ('mr', 8743)], 'German': [('sagte', 10700), ('ja', 8849), ('schon', 7948), ('mehr', 7026), ('wurde', 6489), ('ganz', 6165), ('sah', 5858), ('rief', 5683), ('wohl', 5647), ('hand', 5610)], 'Russian': [('ним', 460), ('глаза', 298), ('друг', 273), ('сердце', 271), ('моей', 255), ('ночь', 241), ('жизни', 234), ('свой', 231), ('знаю', 224), ('горский', 224)], 'French': [('plus', 26737), ('dit', 22433), ('bien', 18336), ('homme', 10266), ('dont', 7398), ('rien', 7322), ('puis', 7193), ('monsieur', 7084), ('après', 6781), ('point', 6670)], 'Italian': [('disse', 8759), ('egli', 8691), ('poi', 7288), ('quel', 7199), ('quando', 6762), ('due', 6461), ('così', 6239), ('cosa', 5989), ('ora', 5809), ('ella', 5401)], 'Spanish': [('si', 5444), ('don', 3073), ('tan', 3026), ('dijo', 2992), ('usted', 2985), ('casa', 2451), ('bien', 2422), ('ser', 2392), ('dos', 2124), ('después', 2092)], 'Ukrainian': [('вiн', 1533), ('бо', 1511), ('се', 1469), ('од', 1421), ('от', 1274), ('же', 1224), ('мов', 1205), ('би', 1185), ('те', 1182), ('неначе', 1115)], 'Dutch': [('den', 1520), ('gij', 627), ('zoo', 512), ('zijne', 509), ('eene', 488), ('wel', 376), ('marten', 330), ('wij', 318), ('baas', 303), ('zien', 230)]}\n"
     ]
    }
   ],
   "source": [
    "print(result)"
   ]
  },
  {
   "cell_type": "markdown",
   "metadata": {},
   "source": [
    "# Benchmarks\n",
    "We're creating different Spark Contexts configations and measure the execution time of the word count program. Afterwards we plot the results using seaborn."
   ]
  },
  {
   "cell_type": "code",
   "execution_count": 3,
   "metadata": {},
   "outputs": [],
   "source": [
    "import time\n",
    "\n",
    "def executeAndMeasure(path, conf):\n",
    "    print(\"Measure...\")\n",
    "    global sparkContext\n",
    "    sparkContext = createSparkContext(conf, sparkContext)\n",
    "    start = time.time()\n",
    "    analyzeFiles(sparkContext, path)\n",
    "    end = time.time()\n",
    "    return end - start\n",
    "\n",
    "def benchmark(benchmarkParam, usingTestData):\n",
    "    path = \"data/texts/*/*.txt\"\n",
    "    if(usingTestData):\n",
    "        path = \"data/test/*/*.txt\"\n",
    "    \n",
    "    if(benchmarkParam == \"RAM\"):\n",
    "        ramSizes = [0.5, 1, 2, 3, 4, 5, 6, 7, 8]\n",
    "        results = {}\n",
    "        for ramSize in ramSizes: \n",
    "            if(ramSize == 0.5):\n",
    "                conf = SparkConf().setMaster(\"local[2]\")\\\n",
    "                    .setAll([('spark.executor.memory', '500m'), ('spark.driver.memory', '500m'), ('spark.app.name', 'Python Spark Count words'), ('spark.executor.cores', '4'), ('spark.cores.max', '4')])\n",
    "                results[ramSize] = executeAndMeasure(path, conf)\n",
    "            else:\n",
    "                conf = SparkConf().setMaster(\"local[2]\")\\\n",
    "                    .setAll([('spark.executor.memory', str(ramSize) + 'g'), ('spark.driver.memory', str(ramSize) + 'g'), ('spark.app.name', 'Python Spark Count words'), ('spark.executor.cores', '4'), ('spark.cores.max', '4')])\n",
    "                results[ramSize] = executeAndMeasure(path, conf)\n",
    "        return results\n",
    "    \n",
    "    if(benchmarkParam == \"CPUs\"):\n",
    "        cpus = [1, 2, 3, 4]\n",
    "        results = {}\n",
    "        for cpu in cpus: \n",
    "            conf = SparkConf().setMaster(\"local[\" + str(cpu) + \"]\")\\\n",
    "                .setAll([('spark.executor.memory', '1g'), ('spark.driver.memory', '1g'), ('spark.app.name', 'Python Spark Count words'), ('spark.executor.cores', str(cpu)), ('spark.driver.cores', str(cpu))])\n",
    "            results[cpu] = executeAndMeasure(path, conf)\n",
    "            \n",
    "        return results\n",
    "    if(benchmarkParam == \"nrLanguages\"):\n",
    "        nrLanguages = [1, 2, 3, 4, 5, 6, 7, 8]\n",
    "        results = {}\n",
    "        for language in nrLanguages: \n",
    "            if(language != 8):\n",
    "                conf = SparkConf().setMaster(\"local[2]\")\\\n",
    "                    .setAll([('spark.executor.memory', '1g'), ('spark.driver.memory', '1g'), ('spark.app.name', 'Python Spark Count words'), ('spark.executor.cores', 4), ('spark.cores.max', 4)])\n",
    "                results[language] = executeAndMeasure(\"data/texts\" + str(language) + \"/*/*.txt\", conf)\n",
    "            else:\n",
    "                conf = SparkConf().setMaster(\"local[2]\")\\\n",
    "                    .setAll([('spark.executor.memory', '1g'), ('spark.driver.memory', '1g'), ('spark.app.name', 'Python Spark Count words'), ('spark.executor.cores', 4), ('spark.cores.max', 4)])\n",
    "                results[language] = executeAndMeasure(path, conf)\n",
    "            \n",
    "        return results\n",
    "            \n",
    "            \n"
   ]
  },
  {
   "cell_type": "code",
   "execution_count": 5,
   "metadata": {},
   "outputs": [
    {
     "name": "stdout",
     "output_type": "stream",
     "text": [
      "Measure...\n",
      "Measure...\n",
      "Measure...\n",
      "Measure...\n",
      "Measure...\n",
      "Measure...\n",
      "Measure...\n",
      "Measure...\n",
      "Measure...\n"
     ]
    },
    {
     "data": {
      "image/png": "[encoded data removed]",
      "text/plain": [
       "<Figure size 432x288 with 1 Axes>"
      ]
     },
     "metadata": {},
     "output_type": "display_data"
    }
   ],
   "source": [
    "import seaborn as sns\n",
    "import matplotlib.pyplot as plt\n",
    "# Apply the default theme\n",
    "sns.set_theme()\n",
    "\n",
    "resultsRam = benchmark(\"RAM\", False)\n",
    "ax = sns.lineplot(data=resultsRam, palette=\"tab10\", linewidth=2.5)\n",
    "ax.set(xlabel='RAM in GB', ylabel='time in seconds')\n",
    "plt.show()\n"
   ]
  },
  {
   "cell_type": "code",
   "execution_count": 5,
   "metadata": {},
   "outputs": [
    {
     "name": "stdout",
     "output_type": "stream",
     "text": [
      "Measure...\n",
      "Measure...\n",
      "Measure...\n",
      "Measure...\n"
     ]
    },
    {
     "data": {
      "image/png": "[encoded data removed]",
      "text/plain": [
       "<Figure size 432x288 with 1 Axes>"
      ]
     },
     "metadata": {},
     "output_type": "display_data"
    }
   ],
   "source": [
    "import seaborn as sns\n",
    "import matplotlib.pyplot as plt\n",
    "# Apply the default theme\n",
    "sns.set_theme()\n",
    "\n",
    "resultsCPU = benchmark(\"CPUs\", False)\n",
    "ax = sns.lineplot(data=resultsCPU, palette=\"tab10\", linewidth=2.5)\n",
    "ax.set(xlabel='Nr of CPUs', ylabel='time in seconds')\n",
    "plt.show()\n"
   ]
  },
  {
   "cell_type": "code",
   "execution_count": 4,
   "metadata": {},
   "outputs": [
    {
     "name": "stdout",
     "output_type": "stream",
     "text": [
      "Measure...\n",
      "Measure...\n",
      "Measure...\n",
      "Measure...\n",
      "Measure...\n",
      "Measure...\n",
      "Measure...\n",
      "Measure...\n"
     ]
    },
    {
     "data": {
      "image/png": "[encoded data removed]",
      "text/plain": [
       "<Figure size 432x288 with 1 Axes>"
      ]
     },
     "metadata": {},
     "output_type": "display_data"
    }
   ],
   "source": [
    "import seaborn as sns\n",
    "import matplotlib.pyplot as plt\n",
    "# Apply the default theme\n",
    "sns.set_theme()\n",
    "\n",
    "resultsTextFiles = benchmark(\"nrLanguages\", False)\n",
    "ax = sns.lineplot(data=resultsTextFiles, palette=\"tab10\", linewidth=2.5)\n",
    "ax.set(xlabel='Nr of languages', ylabel='time in seconds')\n",
    "plt.show()\n"
   ]
  }
 ],
 "metadata": {
  "kernelspec": {
   "display_name": "Python 3",
   "language": "python",
   "name": "python3"
  },
  "language_info": {
   "codemirror_mode": {
    "name": "ipython",
    "version": 3
   },
   "file_extension": ".py",
   "mimetype": "text/x-python",
   "name": "python",
   "nbconvert_exporter": "python",
   "pygments_lexer": "ipython3",
   "version": "3.8.5"
  }
 },
 "nbformat": 4,
 "nbformat_minor": 4
}
